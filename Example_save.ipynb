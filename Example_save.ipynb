{
 "cells": [
  {
   "cell_type": "code",
   "execution_count": null,
   "id": "a93f59b3",
   "metadata": {},
   "outputs": [],
   "source": []
  },
  {
   "cell_type": "code",
   "execution_count": 1,
   "id": "f012e161",
   "metadata": {},
   "outputs": [
    {
     "ename": "SyntaxError",
     "evalue": "EOL while scanning string literal (923821078.py, line 6)",
     "output_type": "error",
     "traceback": [
      "\u001b[0;36m  File \u001b[0;32m\"/tmp/ipykernel_27343/923821078.py\"\u001b[0;36m, line \u001b[0;32m6\u001b[0m\n\u001b[0;31m    api_token = 'xxxxx-xxx\u001b[0m\n\u001b[0m                          ^\u001b[0m\n\u001b[0;31mSyntaxError\u001b[0m\u001b[0;31m:\u001b[0m EOL while scanning string literal\n"
     ]
    }
   ],
   "source": [
    "from pyDaRUS import Citation, Process, Dataset\n",
    "from pyDaRUS.metadatablocks.citation import SubjectEnum, IdentifierScheme\n",
    "import os\n",
    "\n",
    "api_token = 'xxxxx-xxx-....'\n",
    "    \n",
    "# Set environment variables\n",
    "os.environ['API_USER'] = 'kessler'\n",
    "os.environ[\"DATAVERSE_API_TOKEN\"] = api_token\n",
    "os.environ['DATAVERSE_URL'] = 'https://darus.uni-stuttgart.de'"
   ]
  },
  {
   "cell_type": "code",
   "execution_count": 2,
   "id": "f9599aa0",
   "metadata": {},
   "outputs": [
    {
     "name": "stderr",
     "output_type": "stream",
     "text": [
      "Downloading dataset files: 100%|██████████| 1/1 [00:00<00:00,  4.69it/s]\n"
     ]
    }
   ],
   "source": [
    "# dataset = Dataset.from_dataverse_doi(doi=\"doi:10.18419/darus-2735\",filedir=\"Examples/dataset_download/\")\n",
    "dataset = Dataset.from_dataverse_doi(doi=\"doi:10.18419/darus-2735\",filedir=\"Examples/ck/down\")"
   ]
  },
  {
   "cell_type": "code",
   "execution_count": 3,
   "id": "fde54b83",
   "metadata": {},
   "outputs": [
    {
     "data": {
      "text/plain": [
       "Citation(date_of_collection=[], topic_classification=[], producer=[], distributor=[], software=[], storage=[], other_id=[], title='ITT-Seminar - 2022.03.22 - FAIR4Chem', subtitle=None, alternative_title=None, alternative_url=None, subject=['Chemistry', 'Computer and Information Science'], notes=None, language=None, production_date=None, production_place=None, distribution_date=None, depositor='Keßler, Christopher', deposit_date='2022-03-18', kind_of_data=None, related_material=None, related_datasets=None, other_references=None, data_sources=None, origin_of_sources=None, characteristic_of_sources_noted=None, documentation_and_access_to_sources=None, did_it_work=None, explanation=None, grant_information=[], description=[Description(text='Seminar Thema.', date=None)], related_publication=[], keyword=[], contributor=[], series=[], contact=[Contact(name='Kessler, Christopher', affiliation='University of Stuttgart', email=None)], project=[], time_period_covered=[], author=[Author(name='Kessler, Christopher', affiliation='University of Stuttgart', identifier_scheme=None, identifier=None)])"
      ]
     },
     "execution_count": 3,
     "metadata": {},
     "output_type": "execute_result"
    }
   ],
   "source": [
    "#dataset.metadatablocks\n",
    "dataset.citation\n",
    "#dataset.process"
   ]
  },
  {
   "cell_type": "code",
   "execution_count": 4,
   "id": "c00e15d4",
   "metadata": {},
   "outputs": [
    {
     "name": "stdout",
     "output_type": "stream",
     "text": [
      "{'citation': Citation(date_of_collection=[], topic_classification=[], producer=[], distributor=[], software=[], storage=[], other_id=[], title='ITT-Seminar - 2022.03.22 - FAIR4Chem', subtitle=None, alternative_title=None, alternative_url=None, subject=['Chemistry', 'Computer and Information Science'], notes=None, language=None, production_date=None, production_place=None, distribution_date=None, depositor='Keßler, Christopher', deposit_date='2022-03-18', kind_of_data=None, related_material=None, related_datasets=None, other_references=None, data_sources=None, origin_of_sources=None, characteristic_of_sources_noted=None, documentation_and_access_to_sources=None, did_it_work=None, explanation=None, grant_information=[], description=[Description(text='Seminar Thema.', date=None)], related_publication=[], keyword=[], contributor=[], series=[], contact=[Contact(name='Kessler, Christopher', affiliation='University of Stuttgart', email=None)], project=[], time_period_covered=[], author=[Author(name='Kessler, Christopher', affiliation='University of Stuttgart', identifier_scheme=None, identifier=None)]), 'process': Process(processing_methods=[ProcessingMethods(name='Some Process', description=None, parameters='Param1, Param2')], software=[], environments=[], instruments=[], processing_steps=[], method_parameters=[MethodParameters(name='param1', symbol=None, unit=None, value=None, textual_value='Textual')])}\n",
      "\n",
      "ITT-Seminar - 2022.03.22 - FAIR4Chem\n"
     ]
    }
   ],
   "source": [
    "print(dataset.metadatablocks)\n",
    "print()\n",
    "print(dataset.metadatablocks['citation'].title)\n",
    "#dataset.metadatablocks['citation'].producer.append('Christopher, Kessler')\n",
    "#dataset.metadatablocks['citation'].producer"
   ]
  },
  {
   "cell_type": "code",
   "execution_count": 5,
   "id": "aa913115",
   "metadata": {},
   "outputs": [
    {
     "data": {
      "text/plain": [
       "[File(filename='nu_file.txt', description='', file_pid='102446', local_path='Examples/ck/down\\\\nu_file.txt')]"
      ]
     },
     "execution_count": 5,
     "metadata": {},
     "output_type": "execute_result"
    }
   ],
   "source": [
    "process = Process()\n",
    "\n",
    "process.add_processing_methods(name=\"Some Process\", parameters=\"Param1, Param2\")\n",
    "process.add_method_parameters(name=\"Param2\", value=10, unit='kg/m^3')\n",
    "process.add_method_parameters(name=\"Param3\", textual_value=\"Textual\")\n",
    "\n",
    "dataset.add_metadatablock(process)\n",
    "dataset.files"
   ]
  },
  {
   "cell_type": "code",
   "execution_count": 6,
   "id": "82dc2cd7",
   "metadata": {},
   "outputs": [
    {
     "data": {
      "text/plain": [
       "[File(filename='nu_file.txt', description='', file_pid='102446', local_path='Examples/ck/down\\\\nu_file.txt'),\n",
       " File(filename='test_file.txt', description='', file_pid=None, local_path='Examples/ck/up/test_file.txt')]"
      ]
     },
     "execution_count": 6,
     "metadata": {},
     "output_type": "execute_result"
    }
   ],
   "source": [
    "# add a new file\n",
    "\n",
    "dataset.add_file(dv_path=\"test_file.txt\", local_path=\"Examples/ck/up/test_file.txt\")\n",
    "\n",
    "dataset.files\n"
   ]
  },
  {
   "cell_type": "code",
   "execution_count": 7,
   "id": "ae61ca29",
   "metadata": {},
   "outputs": [],
   "source": [
    "with open('./Examples/ck/down/nu_file.txt','w') as f:\n",
    "    f.write('Update the file content')\n"
   ]
  },
  {
   "cell_type": "code",
   "execution_count": 8,
   "id": "183d97a1",
   "metadata": {},
   "outputs": [],
   "source": [
    "dataset.update(contact_name=\"Kessler, Christopher\", contact_mail=\"kessler@itt.uni-stuttgart.de\")"
   ]
  },
  {
   "cell_type": "code",
   "execution_count": null,
   "id": "fdfb67c9",
   "metadata": {},
   "outputs": [],
   "source": []
  }
 ],
 "metadata": {
  "kernelspec": {
   "display_name": "Python 3 (ipykernel)",
   "language": "python",
   "name": "python3"
  },
  "language_info": {
   "codemirror_mode": {
    "name": "ipython",
    "version": 3
   },
   "file_extension": ".py",
   "mimetype": "text/x-python",
   "name": "python",
   "nbconvert_exporter": "python",
   "pygments_lexer": "ipython3",
   "version": "3.7.4"
  }
 },
 "nbformat": 4,
 "nbformat_minor": 5
}
