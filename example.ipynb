{
 "cells": [
  {
   "cell_type": "code",
   "execution_count": 30,
   "id": "f2020456-e353-499d-8027-912c22850974",
   "metadata": {},
   "outputs": [],
   "source": [
    "# Import packages\n",
    "import poreana as pa\n",
    "import porems as pms\n",
    "import matplotlib.pyplot as plt\n",
    "import numpy as np\n",
    "import pandas as pd\n",
    "import seaborn as sns\n",
    "import ipywidgets as widgets\n",
    "\n",
    "\n",
    "import MDAnalysis as mda\n",
    "#import nglview as nv\n",
    "\n",
    "from IPython.display import display, Markdown, Latex\n"
   ]
  },
  {
   "cell_type": "code",
   "execution_count": 73,
   "id": "b4e16c57",
   "metadata": {},
   "outputs": [],
   "source": [
    "# Set strings to the files in data set\n",
    "def set_strings(molecule):\n",
    "    strings = {}\n",
    "    # Strcuture for molecule\n",
    "    strings[\"gro_mol\"] = \"Molecules/{}/{}.gro\".format(molecule,molecule)\n",
    "\n",
    "    # Strings for pure rectangular systems\n",
    "    strings[\"dens_box\"] = \"Pure/{}/box_rectangular_{}_density.h5\".format(molecule,molecule)\n",
    "    strings[\"mc_box\"] = \"Pure/{}/box_rectangular_{}_diffusion_smoluchowski.h5\".format(molecule,molecule)\n",
    "    # Strings for pore system\n",
    "    strings[\"dens\"] = \"Pore/{}/pore_ideal_{}_density.h5\".format(molecule,molecule)\n",
    "    strings[\"bin\"] = \"Pore/{}/pore_ideal_{}_diffusion_einstein.h5\".format(molecule,molecule)\n",
    "    strings[\"mc\"] = \"Pore/{}/pore_ideal_{}_diffusion_smoluchowski.h5\".format(molecule,molecule)\n",
    "\n",
    "    #Strcuture for pore system\n",
    "    strings[\"gro_pore\"] = \"Pure/{}/pure_{}_01k.gro\".format(molecule,molecule)\n",
    "\n",
    "    # Strings for amoprh pore systems (if exisit)\n",
    "    if molecule in [\"cyclopentane\",\"hexane\",\"heptan\"]:\n",
    "        strings[\"dens\"] = \"Pore/{}/pore_amorph_{}_density.h5\".format(molecule,molecule)\n",
    "        strings[\"bin\"] = \"Pore/{}/pore_amorph_{}_diffusion_einstein.h5\".format(molecule,molecule)\n",
    "        strings[\"mc\"] = \"Pore/{}/pore_amorph_{}_diffusion_smoluchowski.h5\".format(molecule,molecule)\n",
    "    return strings"
   ]
  },
  {
   "cell_type": "code",
   "execution_count": 77,
   "id": "6be1eaff",
   "metadata": {},
   "outputs": [],
   "source": [
    "# Display molcule and system\n",
    "def display_molecule(strings):\n",
    "    display(Markdown('# Molecule'))\n",
    "    mol = mda.Universe(strings[\"gro_mol\"])\n",
    "    view = nv.show_mdanalysis(mol)\n",
    "    display(view)\n",
    "    display(Markdown('# System'))\n",
    "    mol = mda.Universe(strings[\"gro_pore\"])\n",
    "    view = nv.show_mdanalysis(mol)\n",
    "    display(view)"
   ]
  },
  {
   "cell_type": "code",
   "execution_count": 14,
   "id": "44706a79",
   "metadata": {},
   "outputs": [],
   "source": [
    "# Plot density function\n",
    "def plot_density(strings):\n",
    "    display(Markdown('# Density'))\n",
    "    plt.figure(figsize=(14,4))\n",
    "    plt.subplot(1,2,1)\n",
    "    plt.title(\"Reservoir density\")\n",
    "    dens = pa.density.bins(strings[\"dens\"], is_print=False)\n",
    "    plt.plot(dens[\"sample\"][\"data\"][\"ex_width\"],[den for den in dens[\"num_dens\"][\"ex\"]], label = \"Reservoir Density\")\n",
    "    plt.plot(dens[\"sample\"][\"data\"][\"ex_width\"],[dens[\"mean\"][\"ex\"] for i in dens[\"num_dens\"][\"ex\"]], linestyle = \"--\", label = \"Mean Reservoir Density\")\n",
    "    plt.ylabel(\"Density (molecules $\\mathrm{nm}^{-1}$)\")\n",
    "    plt.xlabel(\"Reservoir length (nm)\")\n",
    "    plt.xlim([0,10])\n",
    "    plt.subplot(1,2,2)\n",
    "    plt.title(\"Radial Pore Density\")\n",
    "    dens = pa.density.bins(strings[\"dens\"], is_print=False)\n",
    "    plt.plot(dens[\"sample\"][\"data\"][\"in_width\"][:-1],[den for den in dens[\"num_dens\"][\"in\"]], label = \"Pore Density\")\n",
    "    plt.plot(dens[\"sample\"][\"data\"][\"ex_width\"][:-1],[dens[\"mean\"][\"ex\"] for i in dens[\"num_dens\"][\"ex\"][:-1]], linestyle = \"--\", label = \"Mean Reservoir Density\")\n",
    "    plt.axvspan(xmin=2.1, xmax=2.5, facecolor=\"grey\", alpha=0.3, label= \"Sinanol O\")\n",
    "    plt.ylabel(\"Density (molecules $\\mathrm{nm}^{-1}$)\")\n",
    "    plt.xlabel(\"Distance from pore center (nm)\")\n",
    "    #plt.title(molecule)\n",
    "    plt.legend()\n",
    "    plt.xlim([0,2.5])\n",
    "    plt.tight_layout()\n",
    "    plt.show()"
   ]
  },
  {
   "cell_type": "code",
   "execution_count": 28,
   "id": "a32da2a5",
   "metadata": {},
   "outputs": [],
   "source": [
    "# Diffusion (MC)\n",
    "def plot_mc_diffusion(strings):\n",
    "    plt.figure(figsize=(14,4))\n",
    "    # Plot bin diffusion\n",
    "    plt.subplot(1,2,1)\n",
    "    plt.title(\"Bin diffusion\")\n",
    "    mc_box = pa.diffusion.mc_fit(strings[\"mc_box\"], len_step = [10,20,30,40,50,60], is_plot=False, is_print=False)\n",
    "    diff_bin = pa.diffusion.bins(strings[\"bin\"])\n",
    "    ax  =sns.lineplot(x=np.linspace(0,2.51,100),y=[mc_box[0] for i in range(100)], linestyle=\"--\")\n",
    "    pa.diffusion.bins_plot(diff_bin)\n",
    "    plt.axvspan(xmin=2.1, xmax=2.5, facecolor=\"grey\", alpha=0.3, label = \"Silanol O\")\n",
    "    plt.xlim([0,2.5])\n",
    "    ax.set_ylim(bottom=0)\n",
    "    plt.text(0.05, 0.1, 'NVT Diffusion : D =' + \"%.2f\" % (0) +\"$\\\\cdot 10^{-9}$ \\nReservoir Diffusion : D =\" + \"%.2f\" % (0) + \"$\\\\cdot 10^{-9}$ \\nPore Diffusion : D =\" + \"%.2f\" % (0) +\"$\\\\cdot 10^{-9}$\"  ,  bbox={'facecolor': 'grey', 'alpha': 0.2, 'pad': 4})\n",
    "    \n",
    "\n",
    "    plt.subplot(1,2,2)\n",
    "    display(Markdown('# Diffusion Profile'))\n",
    "    plt.title(\"MC Diffusion\")\n",
    "    mc_box = pa.diffusion.mc_fit(strings[\"mc_box\"], len_step = [10,20,30,40,50,60], is_plot=False, is_print=False)\n",
    "    mc_pore = pa.diffusion.mc_profile(strings[\"mc\"], len_step = [10,20,30,40,50,60], kwargs={\"label\": \"Pore System\"})\n",
    "    pore = pa.diffusion.mc_fit(strings[\"mc\"], len_step = [10,20,30,40,50,60], section = [15,19.7], is_plot=False, is_print=False)\n",
    "    res = pa.diffusion.mc_fit(strings[\"mc\"], len_step = [10,20,30,40,50,60], section = [0,7], is_plot=False, is_print=False)\n",
    "    sns.lineplot(x=np.linspace(0,30.1,100),y=[mc_box[0] for i in range(100)], linestyle=\"--\", label=\"Box Diffusion\")\n",
    "    plt.text(21, min(mc_pore[0]), 'NVT : D = ' + \"%.2f\" % (mc_box[1]) + \"$\\\\cdot 10^{-9}\\ \\\\frac{m^2}{s}$ \\nRes  : D = \" + \"%.2f\" % (res[0]) + \"$\\\\cdot 10^{-9}\\ \\\\frac{m^2}{s}$ \\nPore : D = \" + \"%.2f\" % (pore[0]) +\"$\\\\cdot 10^{-9}\\ \\\\frac{m^2}{s}$\"  ,  bbox={'facecolor': 'grey', 'alpha': 0.8, 'pad': 4})\n",
    "\n",
    "    # Plot area\n",
    "    plt.axvspan(xmin=0, xmax=10, facecolor=\"grey\", alpha=0.3, label = \"Reservoir\")\n",
    "    plt.axvspan(xmin=20, xmax=31, facecolor=\"grey\", alpha=0.3)\n",
    "    plt.axvspan(xmin=15, xmax=19.7, facecolor=\"red\", alpha=0.3, label = \"Evaluated\")\n",
    "    plt.axvspan(xmin=23, xmax=31, facecolor=\"red\", alpha=0.3)\n",
    "    plt.legend()\n",
    "    plt.tight_layout()\n",
    "    plt.show()"
   ]
  },
  {
   "cell_type": "code",
   "execution_count": 56,
   "id": "e03dbb56",
   "metadata": {},
   "outputs": [],
   "source": [
    "# Graphic user interface\n",
    "import ipywidgets as widgets\n",
    "from ipywidgets import interact\n",
    "from ipywidgets import interact, interactive, fixed, interact_manual\n",
    "import ipywidgets as widgets\n",
    "import nglview as nv\n",
    "\n",
    "\n",
    "\n",
    "#input_widget = widgets.HBox([drop_group,drop])\n",
    "def view_results(molecule):\n",
    "    import poreana as pa\n",
    "    import matplotlib.pyplot as plt\n",
    "    import MDAnalysis as mda\n",
    "    from IPython.display import display, Markdown, Latex\n",
    "\n",
    "\n",
    "    strings = set_strings(molecule)\n",
    "    display_molecule(strings)\n",
    "    plot_density(strings)\n",
    "    plot_mc_diffusion(strings)\n",
    "\n",
    "\n",
    "def dashboard():\n",
    "    \n",
    "    dict = {}\n",
    "    dict[\"alcohol\"] =   [\"methanol\",\"ethanol\",\"1-propanol\",\"1-butanol\"]\n",
    "    dict[\"aromatic\"] =   [\"benzene\",\"toluene\",\"pyrrol\",\"pyridine\"]\n",
    "    dict[\"alkane\"] =   [\"hexane\",\"heptane\",\"cyclopentane\",\"cylcohexane\",]\n",
    "    dict[\"others\"] =   [\"water\",\"tetrahydrofuran\"]\n",
    "\n",
    "    display(Markdown(\"# Overview   \\n  The data set contains the following systems at a Temperature $T=295 K$: \\n\"))\n",
    "    display(Markdown(\"|Alcohol   |Aromatic|Alkene      |\\n\"    \"|:---------|:-------|:-----------|\\n\"    \"|Methanol  |Benzene |Cyclopentane|\\n\"    \"|Ethanol   |Toluene |Cyclohexane |\\n\"    \"|1-Propanol|Pyrole  |Hexane      |\\n\"    \"|1-Butanol |Pyridine|Heptane     |\\n\"    \"\\n\"    \"\\n\"))\n",
    "\n",
    "    display(Markdown(\"# Set molecule\"))\n",
    "    # Define dropdowns\n",
    "    drop_group = widgets.Dropdown(\n",
    "    options=dict.keys(),\n",
    "    )\n",
    "\n",
    "\n",
    "\n",
    "    drop = widgets.Dropdown(options=[\"methanol\",\"ethanol\",\"1-propanol\",\"1-butanol\",\"benzene\",\"toluene\",\"pyrrole\",\"pyridine\",\"hexane\",\"heptane\",\"cyclopentane\",\"cylcohexane\", \"water\",\"tetrahydrofuran\"]\n",
    "    )\n",
    "\n",
    "\n",
    "\n",
    "    a = widgets.HBox([drop_group,drop,])\n",
    "\n",
    "    interact(drop = drop,drop_group = drop_group)\n",
    "    interact(view_results,molecule = drop)\n",
    "\n"
   ]
  },
  {
   "cell_type": "code",
   "execution_count": 76,
   "id": "a1211daa",
   "metadata": {},
   "outputs": [
    {
     "data": {
      "text/markdown": [
       "# Overview   \n",
       "  The data set contains the following systems at a Temperature $T=295 K$: \n"
      ],
      "text/plain": [
       "<IPython.core.display.Markdown object>"
      ]
     },
     "metadata": {},
     "output_type": "display_data"
    },
    {
     "data": {
      "text/markdown": [
       "|Alcohol   |Aromatic|Alkene      |\n",
       "|:---------|:-------|:-----------|\n",
       "|Methanol  |Benzene |Cyclopentane|\n",
       "|Ethanol   |Toluene |Cyclohexane |\n",
       "|1-Propanol|Pyrole  |Hexane      |\n",
       "|1-Butanol |Pyridine|Heptane     |\n",
       "\n",
       "\n"
      ],
      "text/plain": [
       "<IPython.core.display.Markdown object>"
      ]
     },
     "metadata": {},
     "output_type": "display_data"
    },
    {
     "data": {
      "text/markdown": [
       "# Set molecule"
      ],
      "text/plain": [
       "<IPython.core.display.Markdown object>"
      ]
     },
     "metadata": {},
     "output_type": "display_data"
    },
    {
     "data": {
      "application/vnd.jupyter.widget-view+json": {
       "model_id": "af764c291a774002ad7ddd6e5ca598c4",
       "version_major": 2,
       "version_minor": 0
      },
      "text/plain": [
       "interactive(children=(Dropdown(description='molecule', options=('methanol', 'ethanol', '1-propanol', '1-butano…"
      ]
     },
     "metadata": {},
     "output_type": "display_data"
    }
   ],
   "source": [
    "# Display dashboard\n",
    "dashboard()"
   ]
  }
 ],
 "metadata": {
  "interpreter": {
   "hash": "efa1d638a648108d2dfe553a56c0647a54f828ee12ebc514a2e534fae8ae8863"
  },
  "kernelspec": {
   "display_name": "Python 3.10.6 ('binder')",
   "language": "python",
   "name": "python3"
  },
  "language_info": {
   "codemirror_mode": {
    "name": "ipython",
    "version": 3
   },
   "file_extension": ".py",
   "mimetype": "text/x-python",
   "name": "python",
   "nbconvert_exporter": "python",
   "pygments_lexer": "ipython3",
   "version": "3.10.6"
  }
 },
 "nbformat": 4,
 "nbformat_minor": 5
}
