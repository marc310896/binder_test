{
 "cells": [
  {
   "cell_type": "code",
   "execution_count": 210,
   "id": "f2020456-e353-499d-8027-912c22850974",
   "metadata": {},
   "outputs": [],
   "source": [
    "# Import packages\n",
    "import poreana as pa\n",
    "import porems as pms\n",
    "import matplotlib.pyplot as plt\n",
    "import numpy as np\n",
    "import pandas as pd\n",
    "import seaborn as sns\n",
    "import ipywidgets as widgets\n",
    "import MDAnalysis as mda\n",
    "import nglview as nv\n",
    "from IPython.display import display, Markdown, Latex\n"
   ]
  },
  {
   "cell_type": "code",
   "execution_count": 211,
   "id": "b4e16c57",
   "metadata": {},
   "outputs": [],
   "source": [
    "# Set strings to the files in data set\n",
    "def set_strings(molecule):\n",
    "\n",
    "    strings = {}\n",
    "    for mol in molecule:\n",
    "        strings[mol] = {}\n",
    "        # Strcuture for molecule\n",
    "        if molecule == \"water\":\n",
    "            strings[mol][\"gro_mol\"] = \"Molecules/water/tip4p2005.gro\"\n",
    "        elif molecule != \"water\":\n",
    "            strings[mol][\"gro_mol\"] = \"Molecules/{}/{}.gro\".format(mol,mol)\n",
    "\n",
    "        # Strings for pure rectangular systems\n",
    "        strings[mol][\"dens_box\"] = \"Pure/{}/box_rectangular_{}_density.h5\".format(mol,mol)\n",
    "        strings[mol][\"mc_box\"] = \"Pure/{}/box_rectangular_{}_diffusion_smoluchowski.h5\".format(mol,mol)\n",
    "        \n",
    "        # Strings for pore system\n",
    "        strings[mol][\"dens\"] = \"Pore/{}/pore_ideal_{}_density.h5\".format(mol,mol)\n",
    "        strings[mol][\"bin\"] = \"Pore/{}/pore_ideal_{}_diffusion_einstein.h5\".format(mol,mol)\n",
    "        strings[mol][\"mc\"] = \"Pore/{}/pore_ideal_{}_diffusion_smoluchowski.h5\".format(mol,mol)\n",
    "\n",
    "        # Strings for amoprh pore systems (if exisit in dataset)\n",
    "        if molecule in [\"cyclopentane\",\"hexane\",\"heptane\"]:\n",
    "            strings[mol][\"dens_a\"] = \"Pore/{}/pore_amorph_{}_density.h5\".format(mol,mol)\n",
    "            strings[mol][\"bin_a\"] = \"Pore/{}/pore_amorph_{}_diffusion_einstein.h5\".format(mol,mol)\n",
    "            strings[mol][\"mc_a\"] = \"Pore/{}/pore_amorph_{}_diffusion_smoluchowski.h5\".format(mol,mol)\n",
    "    return strings"
   ]
  },
  {
   "cell_type": "code",
   "execution_count": 212,
   "id": "6be1eaff",
   "metadata": {},
   "outputs": [],
   "source": [
    "# Display molcule and system\n",
    "def display_molecule(strings):\n",
    "    for mol in strings:\n",
    "        # Set markdown header\n",
    "        display(Markdown('# Molecule'))\n",
    "\n",
    "        # Load and display gro file of the molecule and\n",
    "        mol = mda.Universe(strings[mol][\"gro_mol\"])\n",
    "        view = nv.show_mdanalysis(mol)\n",
    "        display(view)\n"
   ]
  },
  {
   "cell_type": "code",
   "execution_count": 232,
   "id": "44706a79",
   "metadata": {},
   "outputs": [],
   "source": [
    "# Plot density function\n",
    "def plot_density(strings, amorph):\n",
    "    color= sns.color_palette(\"deep\")\n",
    "    # Markdown header\n",
    "    display(Markdown('# Density'))\n",
    "    plt.figure(figsize=(14,4))\n",
    "    plt.subplot(1,2,1)\n",
    "    legend = []\n",
    "    for mol,i in zip(strings, range(len(strings))):\n",
    "        # Plot settings\n",
    "        plt.subplot(1,2,1)\n",
    "        plt.ylabel(\"Density (molecules $\\mathrm{nm}^{-1}$)\")\n",
    "        plt.xlabel(\"Reservoir length (nm)\")\n",
    "\n",
    "        plt.xlim([0,10])\n",
    "        plt.title(\"Reservoir density\")\n",
    "\n",
    "        # Plot reservoir density\n",
    "        dens = pa.density.bins(strings[mol][\"dens\"], is_print=False)\n",
    "        if len(strings) != 1:\n",
    "            legend.append(mol)\n",
    "            plt.plot([0],[-1], label = mol, color = color[i] )\n",
    "        elif len(strings) == 1:\n",
    "            legend = [\"Reservoir Density\",\"Mean Reservoir Density\"]\n",
    "        plt.plot(dens[\"sample\"][\"data\"][\"ex_width\"],[den for den in dens[\"num_dens\"][\"ex\"]], label = None, color = color[i] )\n",
    "        # Check if results for amorph pore exists \n",
    "        if amorph and (\"dens_a\" in strings[mol]):\n",
    "            dens = pa.density.bins(strings[mol][\"dens_a\"], is_print=False)\n",
    "            plt.plot(dens[\"sample\"][\"data\"][\"ex_width\"],[den for den in dens[\"num_dens\"][\"ex\"]],linestyle=\"--\" ,label = \"Reservoir Density (Amorph)\", color = color[i])\n",
    "        ax = sns.lineplot(x = dens[\"sample\"][\"data\"][\"ex_width\"],y =[dens[\"mean\"][\"ex\"] for i in dens[\"num_dens\"][\"ex\"]], label = None,linestyle = \"--\",  color = color[i])\n",
    "    if len(strings) != 1:\n",
    "        plt.legend()\n",
    "    else:\n",
    "        plt.legend(legend)\n",
    "    ax.set_ylim(bottom=0)\n",
    "        # Plot settings\n",
    "    for mol,i in zip(strings, range(len(strings))):    \n",
    "        plt.subplot(1,2,2)\n",
    "\n",
    "        plt.title(\"Radial Pore Density\")\n",
    "        plt.ylabel(\"Density (molecules $\\mathrm{nm}^{-1}$)\")\n",
    "        plt.xlabel(\"Distance from pore center (nm)\")\n",
    "        plt.xlim([0,2.5])\n",
    "        if len(strings) != 1:\n",
    "            plt.plot([0],[-1], label = mol, color = color[i] )\n",
    "        elif len(strings) == 1:\n",
    "            legend = [\"Pore Density\", \"Silanol O\",\"Mean Reservoir Density\"]\n",
    "        # Plot radial pore density\n",
    "        dens = pa.density.bins(strings[mol][\"dens\"], is_print=False)\n",
    "        ax = sns.lineplot(x = dens[\"sample\"][\"data\"][\"in_width\"][:-1],y = [den for den in dens[\"num_dens\"][\"in\"]], label = None, color = color[i])\n",
    "        if amorph and (\"dens_a\" in strings[mol]):\n",
    "            dens = pa.density.bins(strings[mol][\"dens_a\"], is_print=False)\n",
    "            plt.plot(dens[\"sample\"][\"data\"][\"in_width\"],[den for den in dens[\"num_dens\"][\"in\"]],linestyle=\"--\" ,label = \"Reservoir Density (Amorph)\", color = color[i])\n",
    "        sns.lineplot(x=dens[\"sample\"][\"data\"][\"ex_width\"][:-1],y=[dens[\"mean\"][\"ex\"] for i in dens[\"num_dens\"][\"ex\"][:-1]], linestyle = \"--\", label = None, color = color[i])\n",
    "        ax.set_ylim(bottom=0)\n",
    "        plt.axvspan(xmin=2.1, xmax=2.5, facecolor=\"grey\", alpha=0.3, label= None)\n",
    "    if len(strings) != 1:\n",
    "        plt.legend()\n",
    "    else:\n",
    "        plt.legend(legend)\n",
    "    plt.tight_layout()\n",
    "    plt.show()"
   ]
  },
  {
   "cell_type": "code",
   "execution_count": 214,
   "id": "a32da2a5",
   "metadata": {},
   "outputs": [],
   "source": [
    "# Diffusion (MC)\n",
    "def plot_mc_diffusion(strings, amorph):\n",
    "    kwargs = {}\n",
    "    kwargs[\"molecule\"] = []\n",
    "    kwargs[\"groups\"] = []\n",
    "    plt.figure(figsize=(14,4))\n",
    "    color= sns.color_palette(\"deep\")\n",
    "    display(Markdown('# Diffusion Profile'))\n",
    "    legend = []\n",
    "    for mol,i in zip(strings, range(len(strings))):\n",
    "        # Plot bin diffusion\n",
    "        plt.subplot(1,2,1)\n",
    "        plt.title(\"Bin diffusion\")\n",
    "        mc_box = pa.diffusion.mc_fit(strings[mol][\"mc_box\"], len_step = [10,20,30,40,50,60], is_plot=False, is_print=False)\n",
    "        diff_bin = pa.diffusion.bins(strings[mol][\"bin\"])\n",
    "        ax  =sns.lineplot(x=np.linspace(0,2.51,100),y=[mc_box[0] for i in range(100)], linestyle=\"--\", label=\"Box Diffusion\", color= color[i])\n",
    "        pa.diffusion.bins_plot(diff_bin, kwargs = {\"label\": \"Bin diffusion\", \"color\": color[i]})\n",
    "        if amorph and (\"dens_a\" in strings[mol]):\n",
    "            diff_bin = pa.diffusion.bins(strings[mol][\"bin_a\"])\n",
    "            pa.diffusion.bins_plot(diff_bin, kwargs = {\"linestyle\": \"--\",\"label\": \"Bin diffusion (Amorph)\", \"color\": color[i]})\n",
    "        plt.axvspan(xmin=2.1, xmax=2.5, facecolor=\"grey\", alpha=0.3, label = \"Silanol O\")\n",
    "        plt.xlim([0,2.5])\n",
    "        ax.set_ylim(bottom=0)\n",
    "        plt.legend(loc=1)\n",
    "        dens = pa.density.bins(strings[mol][\"dens\"], is_print=False)\n",
    "        diff_bin_mean = pa.diffusion.mean(diff_bin, dens, is_print=False)\n",
    "        if len(strings) == 1:\n",
    "            plt.text(0.05, 0.08, 'NVT : D =' + \"%.2f\" % (mc_box[1]) +\"$\\\\cdot 10^{-9}$ \\nPore : D =\" + \"%.2f\" % (diff_bin_mean) +\"$\\\\cdot 10^{-9}$\"  ,  bbox={'facecolor': 'white', 'alpha': 0.8, 'pad': 4})\n",
    "        plt.legend(legend,loc=1)   \n",
    "\n",
    "    for mol,i in zip(strings, range(len(strings))):\n",
    "        plt.subplot(1,2,2)\n",
    "        \n",
    "        plt.title(\"MC Diffusion\")\n",
    "        mc_box = pa.diffusion.mc_fit(strings[mol][\"mc_box\"], len_step = [10,20,30,40,50,60], is_plot=False, is_print=False)\n",
    "        mc_pore = pa.diffusion.mc_profile(strings[mol][\"mc\"], len_step = [10,20,30,40,50,60], kwargs={\"label\": \"Pore System\", \"color\": color[i]})\n",
    "        if amorph and (\"dens_a\" in strings[mol]):\n",
    "                mc_pore = pa.diffusion.mc_profile(strings[mol][\"mc_a\"], len_step = [10,20,30,40,50,60], kwargs={\"linestyle\":\"--\",\"label\": \"Pore System (Amorph)\", \"color\": color[i]})\n",
    "        pore = pa.diffusion.mc_fit(strings[mol][\"mc\"], len_step = [10,20,30,40,50,60], section = [15,19.7], is_plot=False, is_print=False)\n",
    "        res = pa.diffusion.mc_fit(strings[mol][\"mc\"], len_step = [10,20,30,40,50,60], section = [0,7], is_plot=False, is_print=False)\n",
    "        sns.lineplot(x=np.linspace(0,30.1,100),y=[mc_box[0] for i in range(100)], linestyle=\"--\", label=\"Box Diffusion\", color=color[i])\n",
    "        if len(strings) == 1:\n",
    "            plt.text(21.7, min(mc_pore[0]), 'NVT : D = ' + \"%.2f\" % (mc_box[1]) + \"$\\\\cdot 10^{-9}\\ \\\\frac{m^2}{s}$ \\nRes  : D = \" + \"%.2f\" % (res[0]) + \"$\\\\cdot 10^{-9}\\ \\\\frac{m^2}{s}$ \\nPore : D = \" + \"%.2f\" % (pore[0]) +\"$\\\\cdot 10^{-9}\\ \\\\frac{m^2}{s}$\"  ,  bbox={'facecolor': 'white', 'alpha': 0.8, 'pad': 4})\n",
    "\n",
    "    # Plot area\n",
    "    plt.axvspan(xmin=0, xmax=10, facecolor=\"grey\", alpha=0.3, label = \"Reservoir\")\n",
    "    plt.axvspan(xmin=20, xmax=31, facecolor=\"grey\", alpha=0.3)\n",
    "    plt.axvspan(xmin=15, xmax=19.7, facecolor=\"red\", alpha=0.3, label = \"Evaluated\")\n",
    "    plt.axvspan(xmin=23, xmax=31, facecolor=\"red\", alpha=0.3)\n",
    "    plt.legend()\n",
    "    plt.tight_layout()\n",
    "    plt.show()"
   ]
  },
  {
   "cell_type": "code",
   "execution_count": 228,
   "id": "9318a1d0",
   "metadata": {},
   "outputs": [],
   "source": [
    "# Pandas overwiev (groups)\n",
    "def pandas_overview(strings):\n",
    "    display(Markdown(\"# Results Overview\"))\n",
    "    #dens = []\n",
    "    mol_vec = []\n",
    "    dens_res = []\n",
    "    mc_box = []\n",
    "    pore = []\n",
    "    res = [] \n",
    "    for mol in strings:\n",
    "        # Density\n",
    "        dens = pa.density.bins(strings[mol][\"dens\"], is_print=False)\n",
    "        dens_res.append(dens[\"mean\"][\"ex\"])\n",
    "\n",
    "        # Diffusion\n",
    "        mc_box.append(round( pa.diffusion.mc_fit(strings[mol][\"mc_box\"], len_step = [10,20,30,40,50,60], is_plot=False, is_print=False)[1],2))\n",
    "        pore.append(round( pa.diffusion.mc_fit(strings[mol][\"mc\"], len_step = [10,20,30,40,50,60], section = [15,19.7], is_plot=False, is_print=False)[0],2))\n",
    "        res.append(round( pa.diffusion.mc_fit(strings[mol][\"mc\"], len_step = [10,20,30,40,50,60], section = [0,7], is_plot=False, is_print=False)[0],2))\n",
    "        mol_vec.append(mol)\n",
    "    data = {\"Molecule\": mol_vec, \"Density\": dens_res, \"NVT\": mc_box, \"Res\": res, \"Pore\": pore, \"Res/Pore\": [round(res[i]/pore[i],2) for i in range(len(mol_vec))] , \"NVT/Res\": [round(mc_box[i]/res[i],2) for i in range(len(mol_vec))] }\n",
    "    df = pd.DataFrame(data)\n",
    "    display(Markdown(\"<div style=\\\"margin-left: auto;         margin-right: auto;            width: 30%\\\"> \\n\\n\" + df.to_markdown() + \"\\n</div>\"))"
   ]
  },
  {
   "cell_type": "code",
   "execution_count": 234,
   "id": "e03dbb56",
   "metadata": {},
   "outputs": [],
   "source": [
    "# Graphic user interface\n",
    "def view_results(molecule,amorph):\n",
    "    if (type(molecule) == list):\n",
    "        strings = set_strings(molecule)\n",
    "    else:\n",
    "        strings = set_strings([molecule])\n",
    "    if not (type(molecule) == list):\n",
    "        display_molecule(strings)\n",
    "    plot_density(strings, amorph)\n",
    "    plot_mc_diffusion(strings, amorph)\n",
    "    pandas_overview(strings) \n",
    "\n",
    "def update_drop(groups, check):\n",
    "    dict = {}\n",
    "    dict[\"alcohol\"] = [\"methanol\",\"ethanol\",\"1-propanol\",\"1-butanol\",]\n",
    "    dict[\"aromatic\"] = [\"benzene\",\"toluene\",\"pyrrole\",\"pyridine\"]\n",
    "    dict[\"alkene\"] =   [\"hexane\",\"heptane\",\"cyclopentane\",\"cyclohexane\",]\n",
    "    dict[\"others\"] =   [\"water\",\"tetrahydrofuran\"]\n",
    "    if check==False:\n",
    "        drop = widgets.Dropdown(options=dict[groups]\n",
    "        )   \n",
    "        check_a = widgets.Checkbox(\n",
    "        value=False,\n",
    "        description='Display amorph results',\n",
    "        )\n",
    "        widgets.interact(view_results, molecule = drop, amorph = check_a)\n",
    "    else:\n",
    "        drop = dict[groups]\n",
    "        check_a = False\n",
    "        view_results(drop,check_a)\n",
    "\n",
    "\n",
    "\n",
    "def dashboard():\n",
    "    display(Markdown(\"# Overview   \\n  The data set contains the following systems at a Temperature $T=295 K$: \\n\"))\n",
    "    display(Markdown(\"<div style=\\\"margin-left: auto;         margin-right: auto;            width: 30%\\\"> \\n\\n |Alcohol   |Aromatic|Alkene      | Others |\\n\"    \"|:-------------|:---------|:-----------|:-----------|\\n\"    \"|Methanol  |Benzene |Cyclopentane|Water|\\n\"    \"|Ethanol   |Toluene |Cyclohexane |Tetrahydrofuran|\\n\"    \"|1-Propanol  |Pyrole  |Hexane      ||\\n\"    \"|1-Butanol |Pyridine|Heptane    | |\\n</div>\"))\n",
    "    \n",
    "    display(Markdown(\"# Set molecule\"))\n",
    "\n",
    "    drop_group = widgets.RadioButtons(options=[\"alcohol\",\"aromatic\", \"alkene\", \"others\"]\n",
    "    )\n",
    "\n",
    "    check_group = widgets.Checkbox(\n",
    "    value=False,\n",
    "    description='Display group',\n",
    "    )\n",
    "\n",
    "    widgets.interact(update_drop, groups = drop_group, check=check_group)\n",
    "    \n",
    "\n"
   ]
  },
  {
   "cell_type": "code",
   "execution_count": 235,
   "id": "a1211daa",
   "metadata": {},
   "outputs": [
    {
     "data": {
      "text/markdown": [
       "# Overview   \n",
       "  The data set contains the following systems at a Temperature $T=295 K$: \n"
      ],
      "text/plain": [
       "<IPython.core.display.Markdown object>"
      ]
     },
     "metadata": {},
     "output_type": "display_data"
    },
    {
     "data": {
      "text/markdown": [
       "<div style=\"margin-left: auto;         margin-right: auto;            width: 30%\"> \n",
       "\n",
       " |Alcohol   |Aromatic|Alkene      | Others |\n",
       "|:-------------|:---------|:-----------|:-----------|\n",
       "|Methanol  |Benzene |Cyclopentane|Water|\n",
       "|Ethanol   |Toluene |Cyclohexane |Tetrahydrofuran|\n",
       "|1-Propanol  |Pyrole  |Hexane      ||\n",
       "|1-Butanol |Pyridine|Heptane    | |\n",
       "</div>"
      ],
      "text/plain": [
       "<IPython.core.display.Markdown object>"
      ]
     },
     "metadata": {},
     "output_type": "display_data"
    },
    {
     "data": {
      "text/markdown": [
       "# Set molecule"
      ],
      "text/plain": [
       "<IPython.core.display.Markdown object>"
      ]
     },
     "metadata": {},
     "output_type": "display_data"
    },
    {
     "data": {
      "application/vnd.jupyter.widget-view+json": {
       "model_id": "5c1cdb1fa79349d0b49f0f935b42c777",
       "version_major": 2,
       "version_minor": 0
      },
      "text/plain": [
       "interactive(children=(RadioButtons(description='groups', options=('alcohol', 'aromatic', 'alkene', 'others'), …"
      ]
     },
     "metadata": {},
     "output_type": "display_data"
    }
   ],
   "source": [
    "# Display dashboard\n",
    "dashboard()"
   ]
  }
 ],
 "metadata": {
  "interpreter": {
   "hash": "efa1d638a648108d2dfe553a56c0647a54f828ee12ebc514a2e534fae8ae8863"
  },
  "kernelspec": {
   "display_name": "Python 3.10.6 ('binder')",
   "language": "python",
   "name": "python3"
  },
  "language_info": {
   "codemirror_mode": {
    "name": "ipython",
    "version": 3
   },
   "file_extension": ".py",
   "mimetype": "text/x-python",
   "name": "python",
   "nbconvert_exporter": "python",
   "pygments_lexer": "ipython3",
   "version": "3.10.6"
  }
 },
 "nbformat": 4,
 "nbformat_minor": 5
}
