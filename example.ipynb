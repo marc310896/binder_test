{
 "cells": [
  {
   "cell_type": "markdown",
   "id": "def38150",
   "metadata": {},
   "source": [
    "# Install and import packages "
   ]
  },
  {
   "cell_type": "code",
   "execution_count": 73,
   "id": "ef4aa33a",
   "metadata": {},
   "outputs": [
    {
     "name": "stdout",
     "output_type": "stream",
     "text": [
      "Requirement already satisfied: poreana in /usr/stud/hoegler/anaconda3/lib/python3.9/site-packages (0.2.3)\n",
      "Requirement already satisfied: pandas in /usr/stud/hoegler/anaconda3/lib/python3.9/site-packages (from poreana) (1.3.4)\n",
      "Requirement already satisfied: pyyaml in /usr/stud/hoegler/anaconda3/lib/python3.9/site-packages (from poreana) (6.0)\n",
      "Requirement already satisfied: scipy in /usr/stud/hoegler/anaconda3/lib/python3.9/site-packages (from poreana) (1.7.1)\n",
      "Requirement already satisfied: porems>=0.2.5 in /usr/stud/hoegler/anaconda3/lib/python3.9/site-packages (from poreana) (0.2.5)\n",
      "Requirement already satisfied: chemfiles==0.10.0 in /usr/stud/hoegler/anaconda3/lib/python3.9/site-packages (from poreana) (0.10.0)\n",
      "Requirement already satisfied: h5py>=3.0.0 in /usr/stud/hoegler/anaconda3/lib/python3.9/site-packages (from poreana) (3.3.0)\n",
      "Requirement already satisfied: seaborn in /usr/stud/hoegler/anaconda3/lib/python3.9/site-packages (from poreana) (0.11.2)\n",
      "Requirement already satisfied: jinja2 in /usr/stud/hoegler/anaconda3/lib/python3.9/site-packages (from poreana) (2.11.3)\n",
      "Requirement already satisfied: numpy in /usr/stud/hoegler/anaconda3/lib/python3.9/site-packages (from chemfiles==0.10.0->poreana) (1.20.3)\n",
      "Requirement already satisfied: MarkupSafe>=0.23 in /usr/stud/hoegler/anaconda3/lib/python3.9/site-packages (from jinja2->poreana) (1.1.1)\n",
      "Requirement already satisfied: python-dateutil>=2.7.3 in /usr/stud/hoegler/anaconda3/lib/python3.9/site-packages (from pandas->poreana) (2.8.2)\n",
      "Requirement already satisfied: pytz>=2017.3 in /usr/stud/hoegler/anaconda3/lib/python3.9/site-packages (from pandas->poreana) (2021.3)\n",
      "Requirement already satisfied: six>=1.5 in /usr/stud/hoegler/anaconda3/lib/python3.9/site-packages (from python-dateutil>=2.7.3->pandas->poreana) (1.16.0)\n",
      "Requirement already satisfied: matplotlib>=2.2 in /usr/stud/hoegler/anaconda3/lib/python3.9/site-packages (from seaborn->poreana) (3.4.3)\n",
      "Requirement already satisfied: cycler>=0.10 in /usr/stud/hoegler/anaconda3/lib/python3.9/site-packages (from matplotlib>=2.2->seaborn->poreana) (0.10.0)\n",
      "Requirement already satisfied: pyparsing>=2.2.1 in /usr/stud/hoegler/anaconda3/lib/python3.9/site-packages (from matplotlib>=2.2->seaborn->poreana) (3.0.4)\n",
      "Requirement already satisfied: kiwisolver>=1.0.1 in /usr/stud/hoegler/anaconda3/lib/python3.9/site-packages (from matplotlib>=2.2->seaborn->poreana) (1.3.1)\n",
      "Requirement already satisfied: pillow>=6.2.0 in /usr/stud/hoegler/anaconda3/lib/python3.9/site-packages (from matplotlib>=2.2->seaborn->poreana) (8.4.0)\n"
     ]
    }
   ],
   "source": [
    "%%python -m pip install poreana\n",
    "%%python -m pip install porems"
   ]
  },
  {
   "cell_type": "code",
   "execution_count": 26,
   "id": "f2020456-e353-499d-8027-912c22850974",
   "metadata": {},
   "outputs": [],
   "source": [
    "import poreana as pa\n",
    "import porems as pms\n",
    "import matplotlib.pyplot as plt\n",
    "import numpy as np\n",
    "import pandas as pd\n",
    "import seaborn as sns\n",
    "import ipywidgets as widgets\n",
    "\n"
   ]
  },
  {
   "cell_type": "markdown",
   "id": "4fec4b6a-745b-4ffc-a693-0f11fbd37829",
   "metadata": {},
   "source": [
    "# Overview \n",
    "The data set contains the following systems at a Temperature $T=295 K$:\n",
    "\n",
    "|Alcohol   |Aromatic|Alkene      |\n",
    "|:---------|:-------|:-----------|\n",
    "|Methanol  |Benzene |Cyclopentane|\n",
    "|Ethanol   |Toluene |Cyclohexane |\n",
    "|1-Propanol|Pyrole  |Hexane      |\n",
    "|1-Butanol |Pyridine|Heptane     |\n",
    "\n",
    "\n"
   ]
  },
  {
   "cell_type": "markdown",
   "id": "85dd2c73",
   "metadata": {},
   "source": [
    "Set strings to the files in the data verse"
   ]
  },
  {
   "cell_type": "code",
   "execution_count": 72,
   "id": "e03dbb56",
   "metadata": {},
   "outputs": [
    {
     "data": {
      "application/vnd.jupyter.widget-view+json": {
       "model_id": "d4001879e96748d3b88242384b40ad44",
       "version_major": 2,
       "version_minor": 0
      },
      "text/plain": [
       "Dropdown(description='Molecule:', options=('methanol', 'ethanol', '1-propanol'), value='methanol')"
      ]
     },
     "metadata": {},
     "output_type": "display_data"
    },
    {
     "data": {
      "application/vnd.jupyter.widget-view+json": {
       "model_id": "81470211e8ca4f45a80b2413c16773c1",
       "version_major": 2,
       "version_minor": 0
      },
      "text/plain": [
       "Button(description='Create next input', style=ButtonStyle())"
      ]
     },
     "metadata": {},
     "output_type": "display_data"
    }
   ],
   "source": [
    "drop = widgets.Dropdown(\n",
    "    options=['methanol', 'ethanol', '1-propanol'],\n",
    "    value=\"methanol\",\n",
    "    description='Molecule:',\n",
    "    disabled=False,\n",
    ")\n",
    "\n",
    "\n",
    "display(drop)\n",
    "\n",
    "def run_all(ev):\n",
    "    display(Javascript('IPython.notebook.execute_cells_below()'))\n",
    "    #display(Javascript('IPython.notebook.execute_cells(3)'))\n",
    "\n",
    "button = widgets.Button(description=\"Create next input\")\n",
    "button.on_click(run_all)\n",
    "display(button)\n",
    "\n",
    "\n"
   ]
  },
  {
   "cell_type": "code",
   "execution_count": 71,
   "id": "8a89b39f-1384-452f-aae0-71502ce87256",
   "metadata": {},
   "outputs": [],
   "source": [
    "molecule = drop.value\n",
    "\n",
    "strings = {}\n",
    "# Strings for pure rectangular systems\n",
    "strings[\"dens_box\"] = \"Pure/{}/box_rectangular_{}_density.h5\".format(molecule,molecule)\n",
    "strings[\"mc_box\"] = \"Pure/{}/box_rectangular_{}_diffusion_smoluchowski.h5\".format(molecule,molecule)\n",
    "# Strings for pore system\n",
    "strings[\"dens\"] = \"Pore/{}/pore_ideal_{}_density.h5\".format(molecule,molecule)\n",
    "strings[\"bin\"] = \"Pore/{}/pore_ideal_{}_diffusion_einstein.h5\".format(molecule,molecule)\n",
    "strings[\"mc\"] = \"Pore/{}/pore_ideal_{}_diffusion_smoluchowski.h5\".format(molecule,molecule)\n",
    "\n",
    "# Strings for amoprh pore systems (if exisit)\n",
    "if molecule in [\"cyclopentane\",\"hexane\",\"heptan\"]:\n",
    "    strings[\"dens\"] = \"Pore/{}/pore_amorph_{}_density.h5\".format(molecule,molecule)\n",
    "    strings[\"bin\"] = \"Pore/{}/pore_amorph_{}_diffusion_einstein.h5\".format(molecule,molecule)\n",
    "    strings[\"mc\"] = \"Pore/{}/pore_amorph_{}_diffusion_smoluchowski.h5\".format(molecule,molecule)\n",
    "    \n"
   ]
  },
  {
   "cell_type": "markdown",
   "id": "59840a2c-8f98-45eb-91d0-05b2f1e9a4f8",
   "metadata": {},
   "source": [
    "# Density"
   ]
  },
  {
   "cell_type": "code",
   "execution_count": 63,
   "id": "a067b471-c96a-4007-9014-d965312bfc19",
   "metadata": {},
   "outputs": [
    {
     "data": {
      "text/plain": [
       "(0.0, 2.5)"
      ]
     },
     "execution_count": 63,
     "metadata": {},
     "output_type": "execute_result"
    },
    {
     "data": {
      "image/png": "[encoded data removed]",
      "text/plain": [
       "<Figure size 432x288 with 1 Axes>"
      ]
     },
     "metadata": {
      "needs_background": "light"
     },
     "output_type": "display_data"
    }
   ],
   "source": [
    "dens = pa.density.bins(strings[\"dens\"], is_print=False)\n",
    "plt.plot(dens[\"sample\"][\"data\"][\"in_width\"][:-1],[den for den in dens[\"num_dens\"][\"in\"]])\n",
    "plt.plot(dens[\"sample\"][\"data\"][\"ex_width\"][:-1],[dens[\"mean\"][\"ex\"] for i in dens[\"num_dens\"][\"ex\"][:-1]], linestyle = \"--\")\n",
    "plt.axvspan(xmin=2.1, xmax=2.5, facecolor=\"grey\", alpha=0.3)\n",
    "plt.ylabel(\"Density (molecules $\\mathrm{nm}^{-1}$)\")\n",
    "plt.xlabel(\"Distance from pore center (nm)\")\n",
    "plt.title(molecule)\n",
    "plt.xlim([0,2.5])"
   ]
  },
  {
   "cell_type": "markdown",
   "id": "82218505-3ac8-4590-98c0-56b7ee823781",
   "metadata": {},
   "source": [
    "# Diffusion"
   ]
  },
  {
   "cell_type": "code",
   "execution_count": 86,
   "id": "40c1aa0d",
   "metadata": {},
   "outputs": [
    {
     "data": {
      "text/plain": [
       "<matplotlib.legend.Legend at 0x7f60b490de50>"
      ]
     },
     "execution_count": 86,
     "metadata": {},
     "output_type": "execute_result"
    },
    {
     "data": {
      "image/png": "[encoded data removed]",
      "text/plain": [
       "<Figure size 432x288 with 1 Axes>"
      ]
     },
     "metadata": {
      "needs_background": "light"
     },
     "output_type": "display_data"
    }
   ],
   "source": [
    "mc_box = pa.diffusion.mc_fit(strings[\"mc_box\"], len_step = [10,20,30,40,50,60], is_plot=False, is_print=False)\n",
    "mc_pore = pa.diffusion.mc_profile(strings[\"mc\"], len_step = [10,20,30,40,50,60], kwargs={\"label\": \"Pore System\"})\n",
    "res = pa.diffusion.mc_fit(strings[\"mc\"], len_step = [10,20,30,40,50,60], section = [0,7], is_plot=False, is_print=False)\n",
    "sns.lineplot(x=np.linspace(0,30.1,100),y=[mc_box[0] for i in range(100)], linestyle=\"--\", label=\"Box Diffusion\")\n",
    "plt.title(molecule)\n",
    "plt.text(3, 1.4, 'D =' + \"%.2f\" % (res[0])  , style='italic',\n",
    "        bbox={'facecolor': 'red', 'alpha': 0.5, 'pad': 10})\n",
    "plt.text(32, 1.8 , 'Reservoir Diffusion : D =' + \"%.2f\" % (res[0]) +\"$\\\\cdot 10^{-9}$\"  , style='italic',\n",
    "        )\n",
    "# Plot area\n",
    "plt.axvspan(xmin=0, xmax=10, facecolor=\"grey\", alpha=0.3, label = \"Reservoir\")\n",
    "plt.axvspan(xmin=20, xmax=31, facecolor=\"grey\", alpha=0.3)\n",
    "plt.axvspan(xmin=15, xmax=19.7, facecolor=\"red\", alpha=0.3, label = \"Evaluated\")\n",
    "plt.axvspan(xmin=23, xmax=31, facecolor=\"red\", alpha=0.3)\n",
    "plt.legend()"
   ]
  }
 ],
 "metadata": {
  "interpreter": {
   "hash": "5d12631bfa2ec17e17eab2df506d5775ccf2bfba9402a3d7d0a6fc7772cb95a7"
  },
  "kernelspec": {
   "display_name": "Python 3.9.7 ('base')",
   "language": "python",
   "name": "python3"
  },
  "language_info": {
   "codemirror_mode": {
    "name": "ipython",
    "version": 3
   },
   "file_extension": ".py",
   "mimetype": "text/x-python",
   "name": "python",
   "nbconvert_exporter": "python",
   "pygments_lexer": "ipython3",
   "version": "3.9.7"
  }
 },
 "nbformat": 4,
 "nbformat_minor": 5
}
